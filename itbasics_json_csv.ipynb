{
  "nbformat": 4,
  "nbformat_minor": 0,
  "metadata": {
    "colab": {
      "provenance": []
    },
    "kernelspec": {
      "name": "python3",
      "display_name": "Python 3"
    },
    "language_info": {
      "name": "python"
    }
  },
  "cells": [
    {
      "cell_type": "markdown",
      "source": [
        "**Python CSV File Reading and Writing**"
      ],
      "metadata": {
        "id": "uxMMGNCNpHm-"
      }
    },
    {
      "cell_type": "markdown",
      "source": [],
      "metadata": {
        "id": "quyG7ie_QLLB"
      }
    },
    {
      "cell_type": "markdown",
      "source": [
        "1. Write a Python program to read each row from a given csv file and print a list of strings.\n",
        "\n"
      ],
      "metadata": {
        "id": "al8RLIaypNeG"
      }
    },
    {
      "cell_type": "code",
      "source": [
        "import csv\n",
        "with open('/content/sample_data/departments.csv', newline='') as csvfile:\n",
        " data = csv.reader(csvfile, delimiter=' ', quotechar='|')\n",
        " for row in data:\n",
        "   print(', '.join(row))"
      ],
      "metadata": {
        "colab": {
          "base_uri": "https://localhost:8080/"
        },
        "id": "Rz7e4GH-pRsP",
        "outputId": "12aed4b1-3dce-4650-c512-399db6f42a3c"
      },
      "execution_count": null,
      "outputs": [
        {
          "output_type": "stream",
          "name": "stdout",
          "text": [
            "department_id,, department_name,, , manager_id,, , location_id\n",
            "10,, Administration,, 200,, 1700\n",
            "20,, Marketing,, 201,, 1800\n",
            "30,, Purchasing,, 114,, 1700\n",
            "40,, Human, Resources,, 203,, 2400\n",
            "50,, Shipping,, 121,, 1500\n",
            "60,, IT,, 103,, 1400\n",
            "70,, Public, Relations,, 204,, 2700\n",
            "80,, Sales,, 145,, 2500\n"
          ]
        }
      ]
    },
    {
      "cell_type": "markdown",
      "source": [
        "2. Write a Python program to read a given CSV file having tab delimiter."
      ],
      "metadata": {
        "id": "ml5bODULrSZN"
      }
    },
    {
      "cell_type": "code",
      "source": [
        "import csv\n",
        "with open('/content/sample_data/countries.csv', newline='') as csvfile:\n",
        " data = csv.reader(csvfile, delimiter = '\\t')\n",
        " for row in data:\n",
        "   print(', '.join(row))"
      ],
      "metadata": {
        "colab": {
          "base_uri": "https://localhost:8080/"
        },
        "id": "KL8qtPw2rXa7",
        "outputId": "2250da32-e1bd-4f31-a0b6-94da812b9a49"
      },
      "execution_count": null,
      "outputs": [
        {
          "output_type": "stream",
          "name": "stdout",
          "text": [
            "country_id country_name region_id\n",
            "AR Argentina 2\n",
            "AU Australia 3\n",
            "BE Belgium 1\n",
            "BR Brazil 2\n",
            "CA Canada 2\n",
            "CH Switzerland 1\n",
            "CN China 3\n",
            "DE Germany 1\n",
            "DK Denmark 1\n",
            "EG Egypt 4\n",
            "FR France 1\n",
            "HK HongKong 3\n",
            "IL Israel 4\n",
            "IN India 3\n",
            "IT Italy 1\n",
            "JP Japan 3\n",
            "KW Kuwait 4\n",
            "MX Mexico 2\n",
            "NG Nigeria 4\n",
            "N Netherlands 1\n",
            "SG Singapore 3\n",
            "UK United Kingdom 1\n",
            "US United States of America 2\n",
            "ZM Zambia 4\n",
            "ZW Zimbabwe 4\n"
          ]
        }
      ]
    },
    {
      "cell_type": "markdown",
      "source": [
        "3. Write a Python program to read a given CSV file as a list."
      ],
      "metadata": {
        "id": "yQ9sXOdRrrQo"
      }
    },
    {
      "cell_type": "code",
      "source": [
        "import csv\n",
        "with open('/content/sample_data/employees.csv', newline='') as file:\n",
        "   reader = csv.reader(file)\n",
        "   list = list(reader)\n",
        "print(list)"
      ],
      "metadata": {
        "colab": {
          "base_uri": "https://localhost:8080/"
        },
        "id": "Wky6Dd4trz9B",
        "outputId": "fa8574b6-293f-4b12-b688-7979ef189862"
      },
      "execution_count": null,
      "outputs": [
        {
          "output_type": "stream",
          "name": "stdout",
          "text": [
            "[['employ_id', 'first_name', 'last_name', 'email', 'phone_number', 'hire_date', 'job_id', 'salary', 'commission_pct', 'manager_id', 'department_id'], ['100', 'Steven', 'King', 'SKING', '515.123.4567', '1987-06-17', 'AD_PRES', '24000', '', '', '90'], ['101', 'Neena', 'Kochhar', 'NKOCHHAR', '515.123.4568', '1987-06-18', 'AD_VP', '17000', '', '100', '90'], ['102', 'Lex', 'De Haan', 'LDEHAAN', '515.123.4569', '1987-06-19', 'AD_VP', '17000', '', '100', '90'], ['103', 'Alexander', 'Hunold', 'AHUNOLD', '590.423.4567', '1987-06-20', 'IT_PROG', '9000', '', '102', '60'], ['104', 'Bruce', 'Ernst', 'BERNST', '590.423.4568', '1987-06-21', 'IT_PROG', '6000', '', '103', '60'], ['105', 'David', 'Austin', 'DAUSTIN', '590.423.4569', '1987-06-22', 'IT_PROG', '4800', '', '103', '60'], ['106', 'Valli', 'Pataballa', 'VPATABAL', '590.423.4560', '1987-06-23', 'IT_PROG', '4800', '', '103', '60'], ['107', 'Diana', 'Lorentz', 'DLORENTZ', '590.423.5567', '1987-06-24', 'IT_PROG', '4200', '', '103', '60'], ['108', 'Nancy', 'Greenberg', 'NGREENBE', '515.124.4569', '1987-06-25', 'FI_MGR', '12000', '', '101', '100'], ['109', 'Daniel', 'Faviet', 'DFAVIET', '515.124.4169', '1987-06-26', 'FI_ACCOUNT', '9000', '', '108', '100'], ['110', 'John', 'Chen', 'JCHEN', '515.124.4269', '1987-06-27', 'FI_ACCOUNT', '8200', '', '108', '100'], ['111', 'Ismael', 'Sciarra', 'ISCIARRA', '515.124.4369', '1987-06-28', 'FI_ACCOUNT', '7700', '', '108', '100'], ['112', 'Jose Manuel', 'Urman', 'JMURMAN', '515.124.4469', '1987-06-29', 'FI_ACCOUNT', '7800', '', '108', '100'], ['113', 'Luis', 'Popp', 'LPOPP', '515.124.4567', '1987-06-30', 'FI_ACCOUNT', '6900', '', '108', '100'], ['114', 'Den', 'Raphaely', 'DRAPHEAL', '515.127.4561', '1987-07-01', 'PU_MAN', '11000', '', '100', '30'], ['115', 'Alexander', 'Khoo', 'AKHOO', '515.127.4562', '1987-07-02', 'PU_CLERK', '3100', '', '114', '30'], ['116', 'Shelli', 'Baida', 'SBAIDA', '515.127.4563', '1987-07-03', 'PU_CLERK', '2900', '', '114', '30'], ['117', 'Sigal', 'Tobias', 'STOBIAS', '515.127.4564', '1987-07-04', 'PU_CLERK', '2800', '', '114', '30'], ['118', 'Guy', 'Himuro', 'GHIMURO', '515.127.4565', '1987-07-05', 'PU_CLERK', '2600', '', '114', '30'], ['119', 'Karen', 'Colmenares', 'KCOLMENA', '515.127.4566', '1987-07-06', 'PU_CLERK', '2500', '', '114', '30'], ['120', 'Matthew', 'Weiss', 'MWEISS', '650.123.1234', '1987-07-07', 'ST_MAN', '8000', '', '100', '50'], ['121', 'Adam', 'Fripp', 'AFRIPP', '650.123.2234', '1987-07-08', 'ST_MAN', '8200', '', '100', '50'], ['122', 'Payam', 'Kaufling', 'PKAUFLIN', '650.123.3234', '1987-07-09', 'ST_MAN', '7900', '', '100', '50'], ['123', 'Shanta', 'Vollman', 'SVOLLMAN', '650.123.4234', '1987-07-10', 'ST_MAN', '6500', '', '100', '50'], ['124', 'Kevin', 'Mourgos', 'KMOURGOS', '650.123.5234', '1987-07-11', 'ST_MAN', '5800', '', '100', '50'], ['125', 'Julia', 'Nayer', 'JNAYER', '650.124.1214', '1987-07-12', 'ST_CLERK', '3200', '', '120', '50'], ['126', 'Irene', 'Mikkilineni', 'IMIKKILI', '650.124.1224', '1987-07-13', 'ST_CLERK', '2700', '', '120', '50'], ['127', 'James', 'Landry', 'JLANDRY', '650.124.1334', '1987-07-14', 'ST_CLERK', '2400', '', '120', '50'], ['128', 'Steven', 'Markle', 'SMARKLE', '650.124.1434', '1987-07-15', 'ST_CLERK', '2200', '', '120', '50'], ['129', 'Laura', 'Bissot', 'LBISSOT', '650.124.5234', '1987-07-16', 'ST_CLERK', '3300', '', '121', '50'], ['130', 'Mozhe', 'Atkinson', 'MATKINSO', '650.124.6234', '1987-07-17', 'ST_CLERK', '2800', '', '121', '50'], ['131', 'James', 'Marlow', 'JAMRLOW', '650.124.7234', '1987-07-18', 'ST_CLERK', '2500', '', '121', '50'], ['132', 'TJ', 'Olson', 'TJOLSON', '650.124.8234', '1987-07-19', 'ST_CLERK', '2100', '', '121', '50'], ['133', 'Jason', 'Mallin', 'JMALLIN', '650.127.1934', '1987-07-20', 'ST_CLERK', '3300', '', '122', '50'], ['134', 'Michael', 'Rogers', 'MROGERS', '650.127.1834', '1987-07-21', 'ST_CLERK', '2900', '', '122', '50'], ['135', 'Ki', 'Gee', 'KGEE', '650.127.1734', '1987-07-22', 'ST_CLERK', '2400', '', '122', '50'], ['136', 'Hazel', 'Philtanker', 'HPHILTAN', '650.127.1634', '1987-07-23', 'ST_CLERK', '2200', '', '122', '50'], ['137', 'Renske', 'Ladwig', 'RLADWIG', '650.121.1234', '1987-07-24', 'ST_CLERK', '3600', '', '123', '50'], ['138', 'Stephen', 'Stiles', 'SSTILES', '650.121.2034', '1987-07-25', 'ST_CLERK', '3200', '', '123', '50'], ['139', 'John', 'Seo', 'JSEO', '650.121.2019', '1987-07-26', 'ST_CLERK', '2700', '', '123', '50'], ['140', 'Joshua', 'Patel', 'JPATEL', '650.121.1834', '1987-07-27', 'ST_CLERK', '2500', '', '123', '50'], ['141', 'Trenna', 'Rajs', 'TRAJS', '650.121.8009', '1987-07-28', 'ST_CLERK', '3500', '', '124', '50'], ['142', 'Curtis', 'Davies', 'CDAVIES', '650.121.2994', '1987-07-29', 'ST_CLERK', '3100', '', '124', '50'], ['143', 'Randall', 'Matos', 'RMATOS', '650.121.2874', '1987-07-30', 'ST_CLERK', '2600', '', '124', '50'], ['144', 'Peter', 'Vargas', 'PVARGAS', '650.121.2004', '1987-07-31', 'ST_CLERK', '2500', '', '124', '50'], ['145', 'John', 'Russell', 'JRUSSEL', '011.44.1344.429268', '1987-08-01', 'SA_MAN', '14000', '0.4', '100', '80'], ['146', 'Karen', 'Partners', 'KPARTNER', '011.44.1344.467268', '1987-08-02', 'SA_MAN', '13500', '0.3', '100', '80'], ['147', 'Alberto', 'Errazuriz', 'AERRAZUR', '011.44.1344.429278', '1987-08-03', 'SA_MAN', '12000', '0.3', '100', '80'], ['148', 'Gerald', 'Cambrault', 'GCAMBRAU', '011.44.1344.619268', '1987-08-04', 'SA_MAN', '11000', '0.3', '100', '80'], ['149', 'Eleni', 'Zlotkey', 'EZLOTKEY', '011.44.1344.429018', '1987-08-05', 'SA_MAN', '10500', '0.2', '100', '80'], ['150', 'Peter', 'Tucker', 'PTUCKER', '011.44.1344.129268', '1987-08-06', 'SA_REP', '10000', '0.3', '145', '80']]\n"
          ]
        }
      ]
    },
    {
      "cell_type": "markdown",
      "source": [
        "4. Write a Python program to read a given CSV file as a dictionary."
      ],
      "metadata": {
        "id": "wY4oWh-VsKhj"
      }
    },
    {
      "cell_type": "code",
      "source": [
        "import csv\n",
        "our_data = csv.DictReader(open('/content/sample_data/departments.csv'))\n",
        "for row in our_data:\n",
        "   print(row)"
      ],
      "metadata": {
        "colab": {
          "base_uri": "https://localhost:8080/"
        },
        "id": "TV98xqiesNcH",
        "outputId": "c8efd694-3836-4330-b296-f2f5897a7e6d"
      },
      "execution_count": null,
      "outputs": [
        {
          "output_type": "stream",
          "name": "stdout",
          "text": [
            "{'department_id': '10', ' department_name': ' Administration', '  manager_id': ' 200', '  location_id': ' 1700'}\n",
            "{'department_id': '20', ' department_name': ' Marketing', '  manager_id': ' 201', '  location_id': ' 1800'}\n",
            "{'department_id': '30', ' department_name': ' Purchasing', '  manager_id': ' 114', '  location_id': ' 1700'}\n",
            "{'department_id': '40', ' department_name': ' Human Resources', '  manager_id': ' 203', '  location_id': ' 2400'}\n",
            "{'department_id': '50', ' department_name': ' Shipping', '  manager_id': ' 121', '  location_id': ' 1500'}\n",
            "{'department_id': '60', ' department_name': ' IT', '  manager_id': ' 103', '  location_id': ' 1400'}\n",
            "{'department_id': '70', ' department_name': ' Public Relations', '  manager_id': ' 204', '  location_id': ' 2700'}\n",
            "{'department_id': '80', ' department_name': ' Sales', '  manager_id': ' 145', '  location_id': ' 2500'}\n"
          ]
        }
      ]
    },
    {
      "cell_type": "markdown",
      "source": [
        "5. Write a Python program to read a given CSV files with initial spaces after a delimiter and remove those initial spaces."
      ],
      "metadata": {
        "id": "Z0NwC2AnskUB"
      }
    },
    {
      "cell_type": "code",
      "source": [
        "import csv\n",
        "with open('/content/sample_data/departments.csv', 'r') as csvfile:\n",
        "   data = csv.reader(csvfile, skipinitialspace=False)\n",
        "   for row in data:\n",
        "     print(', '.join(row))\n",
        "print(\"\\nwithout spaces: \")\n",
        "with open('/content/sample_data/departments.csv', 'r') as csvfile: #without spaces\n",
        "   data = csv.reader(csvfile, skipinitialspace=True)\n",
        "   for row in data:\n",
        "     print(', '.join(row))\n"
      ],
      "metadata": {
        "colab": {
          "base_uri": "https://localhost:8080/"
        },
        "id": "oVzWctb0snlq",
        "outputId": "1d51f006-589f-4df3-bece-83bcf1d977d6"
      },
      "execution_count": null,
      "outputs": [
        {
          "output_type": "stream",
          "name": "stdout",
          "text": [
            "department_id,  department_name,   manager_id,   location_id\n",
            "10,  Administration,  200,  1700\n",
            "20,  Marketing,  201,  1800\n",
            "30,  Purchasing,  114,  1700\n",
            "40,  Human Resources,  203,  2400\n",
            "50,  Shipping,  121,  1500\n",
            "60,  IT,  103,  1400\n",
            "70,  Public Relations,  204,  2700\n",
            "80,  Sales,  145,  2500\n",
            "\n",
            "without spaces: \n",
            "department_id, department_name, manager_id, location_id\n",
            "10, Administration, 200, 1700\n",
            "20, Marketing, 201, 1800\n",
            "30, Purchasing, 114, 1700\n",
            "40, Human Resources, 203, 2400\n",
            "50, Shipping, 121, 1500\n",
            "60, IT, 103, 1400\n",
            "70, Public Relations, 204, 2700\n",
            "80, Sales, 145, 2500\n"
          ]
        }
      ]
    },
    {
      "cell_type": "markdown",
      "source": [
        "6. Write a Python program that reads a CSV file and remove initial spaces, quotes around each entry and the delimiter."
      ],
      "metadata": {
        "id": "jJaNRrwY7evD"
      }
    },
    {
      "cell_type": "code",
      "source": [
        "import csv\n",
        "with open('/content/sample_data/departments.csv', 'r') as csvfile: #without spaces\n",
        "   data = csv.reader(csvfile, skipinitialspace=True, delimiter='|', quoting=csv.QUOTE_ALL)\n",
        "   for row in data:\n",
        "     print(', '.join(row))"
      ],
      "metadata": {
        "colab": {
          "base_uri": "https://localhost:8080/"
        },
        "id": "nztk-J4P7hyx",
        "outputId": "210a38a1-9cb9-45fb-d9f6-d9fca1b2c793"
      },
      "execution_count": null,
      "outputs": [
        {
          "output_type": "stream",
          "name": "stdout",
          "text": [
            "department_id, department_name,  manager_id,  location_id\n",
            "10, Administration, 200, 1700\n",
            "20, Marketing, 201, 1800\n",
            "30, Purchasing, 114, 1700\n",
            "40, Human Resources, 203, 2400\n",
            "50, Shipping, 121, 1500\n",
            "60, IT, 103, 1400\n",
            "70, Public Relations, 204, 2700\n",
            "80, Sales, 145, 2500\n"
          ]
        }
      ]
    },
    {
      "cell_type": "markdown",
      "source": [
        "7. Write a Python program to read specific columns of a given CSV file and print the content of the columns."
      ],
      "metadata": {
        "id": "UIDEsd9f9RMu"
      }
    },
    {
      "cell_type": "code",
      "source": [
        "import csv\n",
        "with open('/content/sample_data/departments.csv', 'r') as csvfile:\n",
        "  data = csv.reader(csvfile)\n",
        "  for row in data:\n",
        "   print(row['department_id'], row[department_name])"
      ],
      "metadata": {
        "colab": {
          "base_uri": "https://localhost:8080/",
          "height": 170
        },
        "id": "y7AZAmLz9gG-",
        "outputId": "a1f7a9c7-bd82-4b43-821f-91db909e00c3"
      },
      "execution_count": null,
      "outputs": [
        {
          "output_type": "error",
          "ename": "TypeError",
          "evalue": "list indices must be integers or slices, not str",
          "traceback": [
            "\u001b[0;31m---------------------------------------------------------------------------\u001b[0m",
            "\u001b[0;31mTypeError\u001b[0m                                 Traceback (most recent call last)",
            "\u001b[0;32m<ipython-input-51-5f21d70f2bf1>\u001b[0m in \u001b[0;36m<cell line: 2>\u001b[0;34m()\u001b[0m\n\u001b[1;32m      3\u001b[0m   \u001b[0mdata\u001b[0m \u001b[0;34m=\u001b[0m \u001b[0mcsv\u001b[0m\u001b[0;34m.\u001b[0m\u001b[0mreader\u001b[0m\u001b[0;34m(\u001b[0m\u001b[0mcsvfile\u001b[0m\u001b[0;34m)\u001b[0m\u001b[0;34m\u001b[0m\u001b[0;34m\u001b[0m\u001b[0m\n\u001b[1;32m      4\u001b[0m   \u001b[0;32mfor\u001b[0m \u001b[0mrow\u001b[0m \u001b[0;32min\u001b[0m \u001b[0mdata\u001b[0m\u001b[0;34m:\u001b[0m\u001b[0;34m\u001b[0m\u001b[0;34m\u001b[0m\u001b[0m\n\u001b[0;32m----> 5\u001b[0;31m    \u001b[0mprint\u001b[0m\u001b[0;34m(\u001b[0m\u001b[0mrow\u001b[0m\u001b[0;34m[\u001b[0m\u001b[0;34m'department_id'\u001b[0m\u001b[0;34m]\u001b[0m\u001b[0;34m,\u001b[0m \u001b[0mrow\u001b[0m\u001b[0;34m[\u001b[0m\u001b[0mdepartment_name\u001b[0m\u001b[0;34m]\u001b[0m\u001b[0;34m)\u001b[0m\u001b[0;34m\u001b[0m\u001b[0;34m\u001b[0m\u001b[0m\n\u001b[0m",
            "\u001b[0;31mTypeError\u001b[0m: list indices must be integers or slices, not str"
          ]
        }
      ]
    },
    {
      "cell_type": "markdown",
      "source": [
        "8. Write a Python program that reads each row of a given csv file and skip the header of the file. Also print the number of rows and the field names."
      ],
      "metadata": {
        "id": "hB_acSByBbR8"
      }
    },
    {
      "cell_type": "code",
      "source": [
        "import csv\n",
        "fields = []\n",
        "rows = []\n",
        "with open('/content/sample_data/departments.csv', newline='') as csvfile:\n",
        " data = csv.reader(csvfile, delimiter=' ', quotechar=',')\n",
        " fields = next(data)\n",
        " for row in data:\n",
        "   print(', '.join(row))\n",
        "print(\"\\nnumber of rows: %d\"%(data.line_num))\n",
        "print('field names:')\n",
        "print(', '.join(field for field in fields))"
      ],
      "metadata": {
        "colab": {
          "base_uri": "https://localhost:8080/"
        },
        "id": "KUtFdsKnBgOk",
        "outputId": "bd48337c-04bc-40a0-ae73-f00f42131731"
      },
      "execution_count": null,
      "outputs": [
        {
          "output_type": "stream",
          "name": "stdout",
          "text": [
            "10,, Administration,, 200,, 1700\n",
            "20,, Marketing,, 201,, 1800\n",
            "30,, Purchasing,, 114,, 1700\n",
            "40,, Human, Resources,, 203,, 2400\n",
            "50,, Shipping,, 121,, 1500\n",
            "60,, IT,, 103,, 1400\n",
            "70,, Public, Relations,, 204,, 2700\n",
            "80,, Sales,, 145,, 2500\n",
            "\n",
            "number of rows: 9\n",
            "field names:\n",
            "department_id,, department_name,, , manager_id,, , location_id\n"
          ]
        }
      ]
    },
    {
      "cell_type": "markdown",
      "source": [
        "9. Write a Python program to create an object for writing and iterate over the rows to print the values."
      ],
      "metadata": {
        "id": "NR3AubQ0B3dP"
      }
    },
    {
      "cell_type": "code",
      "source": [
        "import csv\n",
        "import sys\n",
        "with open('temp.csv', 'wt') as file:\n",
        "    writer = csv.writer(file)\n",
        "    writer.writerow(('id1', 'id2', 'date'))\n",
        "    for i in range(3):\n",
        "        row = (\n",
        "            i + 1,\n",
        "            chr(ord('a') + i),\n",
        "            '01/{:02d}/2019'.format(i + 1),)\n",
        "        writer.writerow(row)\n",
        "print(open('temp.csv', 'rt').read())"
      ],
      "metadata": {
        "colab": {
          "base_uri": "https://localhost:8080/"
        },
        "id": "qaa2wTaHB63h",
        "outputId": "d0dd4e01-6601-4820-8705-a6e56d15fd11"
      },
      "execution_count": null,
      "outputs": [
        {
          "output_type": "stream",
          "name": "stdout",
          "text": [
            "id1,id2,date\n",
            "1,a,01/01/2019\n",
            "2,b,01/02/2019\n",
            "3,c,01/03/2019\n",
            "\n"
          ]
        }
      ]
    },
    {
      "cell_type": "markdown",
      "source": [
        "10. Write a Python program to write a Python list of lists to a csv file. After writing the CSV file read the CSV file and display the content."
      ],
      "metadata": {
        "id": "Y0MmY1BnCzfT"
      }
    },
    {
      "cell_type": "code",
      "source": [
        "import csv\n",
        "data = [['cat','dog', 'kitten'], [1, 2, 3], [4, 5, 6], [7, 8, 9], [9, 11, 12]]\n",
        "with open(\"temp.csv\", \"w\", newline=\"\") as file:\n",
        "   writer = csv.writer(file)\n",
        "   writer.writerows(data)\n",
        "with open('temp.csv', newline='') as csvfile:\n",
        " data = csv.reader(csvfile, delimiter=' ')\n",
        " for row in data:\n",
        "   print(', '.join(row))"
      ],
      "metadata": {
        "colab": {
          "base_uri": "https://localhost:8080/"
        },
        "id": "a-dSw6WEH5N1",
        "outputId": "38b4febc-7386-4c62-c480-8ae3bf614423"
      },
      "execution_count": null,
      "outputs": [
        {
          "output_type": "stream",
          "name": "stdout",
          "text": [
            "cat,dog,kitten\n",
            "1,2,3\n",
            "4,5,6\n",
            "7,8,9\n",
            "9,11,12\n"
          ]
        }
      ]
    },
    {
      "cell_type": "markdown",
      "source": [
        "11. Write a Python program to write a Python dictionary to a csv file. After writing the CSV file read the CSV file and display the content."
      ],
      "metadata": {
        "id": "4iwLKQ96q8da"
      }
    },
    {
      "cell_type": "code",
      "source": [
        "\n",
        "import csv\n",
        "\n",
        "data = {\n",
        "    'Name': ['Alice', 'Bob', 'Charlie'],\n",
        "    'Age': [25, 30, 35],\n",
        "    'City': ['New York', 'Los Angeles', 'Chicago']\n",
        "}\n",
        "\n",
        "csv_file = 'output.csv'\n",
        "\n",
        "with open(csv_file, mode='w', newline='') as file:\n",
        "    writer = csv.writer(file)\n",
        "\n",
        "    writer.writerow(data.keys())\n",
        "\n",
        "    rows = zip(*data.values())\n",
        "    writer.writerows(rows)\n",
        "\n",
        "print(f\"Data written to {csv_file} successfully.\")\n",
        "\n",
        "with open(csv_file, mode='r') as file:\n",
        "    reader = csv.reader(file)\n",
        "\n",
        "    for row in reader:\n",
        "        print(row)\n"
      ],
      "metadata": {
        "colab": {
          "base_uri": "https://localhost:8080/"
        },
        "id": "--bclwejq-8V",
        "outputId": "df9118ca-2b23-4ba9-c1a9-c714b1b2306f"
      },
      "execution_count": null,
      "outputs": [
        {
          "output_type": "stream",
          "name": "stdout",
          "text": [
            "Data written to output.csv successfully.\n",
            "['Name', 'Age', 'City']\n",
            "['Alice', '25', 'New York']\n",
            "['Bob', '30', 'Los Angeles']\n",
            "['Charlie', '35', 'Chicago']\n"
          ]
        }
      ]
    },
    {
      "cell_type": "markdown",
      "source": [
        "1. Write a Python program to convert JSON data to Python object."
      ],
      "metadata": {
        "id": "OxVn0JEQA0-m"
      }
    },
    {
      "cell_type": "code",
      "source": [
        "import json\n",
        "json_obj =  '{ \"1\":\"2\", \"3\":\"4\", \"5\":6 }'\n",
        "python_obj = json.loads(json_obj)\n",
        "print(\"\\ndata\")\n",
        "print(python_obj)"
      ],
      "metadata": {
        "colab": {
          "base_uri": "https://localhost:8080/"
        },
        "id": "l9WP1uTKA80H",
        "outputId": "ccc5fc68-91d9-4550-f160-1f69717c63b8"
      },
      "execution_count": null,
      "outputs": [
        {
          "output_type": "stream",
          "name": "stdout",
          "text": [
            "\n",
            "data\n",
            "{'1': '2', '3': '4', '5': 6}\n"
          ]
        }
      ]
    },
    {
      "cell_type": "markdown",
      "source": [
        "2. Write a Python program to convert Python object to JSON data."
      ],
      "metadata": {
        "id": "-gqqcKySBNa5"
      }
    },
    {
      "cell_type": "code",
      "source": [
        "import json\n",
        "python_obj = {\n",
        "  \"name\": \"David\",\n",
        "  \"class\":\"I\",\n",
        "  \"age\": 6\n",
        "}\n",
        "print(type(python_obj))\n",
        "j_data = json.dumps(python_obj)\n",
        "\n",
        "print(j_data)"
      ],
      "metadata": {
        "colab": {
          "base_uri": "https://localhost:8080/"
        },
        "id": "OaRwYY1zBWYo",
        "outputId": "c1f866b0-938b-451b-bbda-92f6abd42f3b"
      },
      "execution_count": null,
      "outputs": [
        {
          "output_type": "stream",
          "name": "stdout",
          "text": [
            "<class 'dict'>\n",
            "{\"name\": \"David\", \"class\": \"I\", \"age\": 6}\n"
          ]
        }
      ]
    },
    {
      "cell_type": "markdown",
      "source": [
        "3. Write a Python program to convert Python objects into JSON strings. Print all the values."
      ],
      "metadata": {
        "id": "Fy3A5FCRB0mJ"
      }
    },
    {
      "cell_type": "code",
      "source": [
        "import json\n",
        "python_dict =  {\"color\": \"black\", \"age\": 6, \"type\":\"cat\"}\n",
        "python_list =  [\"black\", \"red\", \"white\"]\n",
        "python_str =  \"python Json\"\n",
        "python_int =  (1234)\n",
        "python_float =  (21.34)\n",
        "python_T =  (True)\n",
        "python_F =  (False)\n",
        "python_N =  (None)\n",
        "\n",
        "json_dict = json.dumps(python_dict)\n",
        "json_list = json.dumps(python_list)\n",
        "json_str = json.dumps(python_str)\n",
        "json_num1 = json.dumps(python_int)\n",
        "json_num2 = json.dumps(python_float)\n",
        "json_t = json.dumps(python_T)\n",
        "json_f = json.dumps(python_F)\n",
        "json_n = json.dumps(python_N)\n",
        "\n",
        "print(\"json dict : \", json_dict)\n",
        "print(\"jason list : \", json_list)\n",
        "print(\"json string : \", json_str)\n",
        "print(\"json number1 : \", json_num1)\n",
        "print(\"json number2 : \", json_num2)\n",
        "print(\"json true : \", json_t)\n",
        "print(\"json false : \", json_f)\n",
        "print(\"json null ; \", json_n)"
      ],
      "metadata": {
        "colab": {
          "base_uri": "https://localhost:8080/"
        },
        "id": "uNv-PyZ1CA65",
        "outputId": "a94589d9-61e9-4214-8769-5a7d9c93ffd0"
      },
      "execution_count": null,
      "outputs": [
        {
          "output_type": "stream",
          "name": "stdout",
          "text": [
            "json dict :  {\"color\": \"black\", \"age\": 6, \"type\": \"cat\"}\n",
            "jason list :  [\"black\", \"red\", \"white\"]\n",
            "json string :  \"python Json\"\n",
            "json number1 :  1234\n",
            "json number2 :  21.34\n",
            "json true :  true\n",
            "json false :  false\n",
            "json null ;  null\n"
          ]
        }
      ]
    },
    {
      "cell_type": "markdown",
      "source": [
        "4. Write a Python program to convert Python dictionary object (sort by key) to JSON data. Print the object members with indent level 4."
      ],
      "metadata": {
        "id": "C4YU_ciKCknJ"
      }
    },
    {
      "cell_type": "code",
      "source": [
        "import json\n",
        "j_str = {'1': 2, '3': 4, '5': 6, '7': 8}\n",
        "print(\"strs:\")\n",
        "print(j_str)\n",
        "print(\"\\nJdata:\")\n",
        "print(json.dumps(j_str, sort_keys=True, indent=4))"
      ],
      "metadata": {
        "colab": {
          "base_uri": "https://localhost:8080/"
        },
        "id": "-1UaewG6CnQi",
        "outputId": "9891c8c0-41e1-4afe-bb10-5b8fe6276748"
      },
      "execution_count": null,
      "outputs": [
        {
          "output_type": "stream",
          "name": "stdout",
          "text": [
            "strs:\n",
            "{'1': 2, '3': 4, '5': 6, '7': 8}\n",
            "\n",
            "Jdata:\n",
            "{\n",
            "    \"1\": 2,\n",
            "    \"3\": 4,\n",
            "    \"5\": 6,\n",
            "    \"7\": 8\n",
            "}\n"
          ]
        }
      ]
    },
    {
      "cell_type": "markdown",
      "source": [
        "5. Write a Python program to convert JSON encoded data into Python objects."
      ],
      "metadata": {
        "id": "k3kDWgoWD6Sg"
      }
    },
    {
      "cell_type": "code",
      "source": [
        "import json\n",
        "\n",
        "json_data_dict = '''\n",
        "{\n",
        "    \"name\": \"Alice\",\n",
        "    \"age\": 30,\n",
        "    \"city\": \"New York\",\n",
        "    \"is_student\": false,\n",
        "    \"courses\": [\"Math\", \"Science\", \"History\"]\n",
        "}\n",
        "'''\n",
        "\n",
        "json_data_list = '''\n",
        "[1, 2, 3, 4, 5]\n",
        "'''\n",
        "\n",
        "json_data_string = '\"Hello, World!\"'\n",
        "\n",
        "json_data_int = '42'\n",
        "\n",
        "json_data_float = '3.14'\n",
        "\n",
        "def convert_json_to_python(json_data):\n",
        "    python_object = json.loads(json_data)\n",
        "    return python_object\n",
        "\n",
        "print(\"Python representation of dictionary:\")\n",
        "python_dict = convert_json_to_python(json_data_dict)\n",
        "print(python_dict)\n",
        "\n",
        "print(\"\\nPython representation of list:\")\n",
        "python_list = convert_json_to_python(json_data_list)\n",
        "print(python_list)\n",
        "\n",
        "print(\"\\nPython representation of string:\")\n",
        "python_string = convert_json_to_python(json_data_string)\n",
        "print(python_string)\n",
        "\n",
        "print(\"\\nPython representation of integer:\")\n",
        "python_int = convert_json_to_python(json_data_int)\n",
        "print(python_int)\n",
        "\n",
        "print(\"\\nPython representation of float:\")\n",
        "python_float = convert_json_to_python(json_data_float)\n",
        "print(python_float)"
      ],
      "metadata": {
        "colab": {
          "base_uri": "https://localhost:8080/"
        },
        "id": "AvGW-MRQEHKP",
        "outputId": "cbd8ef3b-ace3-4603-b637-c9e814eb7630"
      },
      "execution_count": null,
      "outputs": [
        {
          "output_type": "stream",
          "name": "stdout",
          "text": [
            "Python representation of dictionary:\n",
            "{'name': 'Alice', 'age': 30, 'city': 'New York', 'is_student': False, 'courses': ['Math', 'Science', 'History']}\n",
            "\n",
            "Python representation of list:\n",
            "[1, 2, 3, 4, 5]\n",
            "\n",
            "Python representation of string:\n",
            "Hello, World!\n",
            "\n",
            "Python representation of integer:\n",
            "42\n",
            "\n",
            "Python representation of float:\n",
            "3.14\n"
          ]
        }
      ]
    },
    {
      "cell_type": "markdown",
      "source": [
        "6. Write a Python program to create a new JSON file from an existing JSON file.\n"
      ],
      "metadata": {
        "id": "Bzu8JQc2EVJs"
      }
    },
    {
      "cell_type": "code",
      "source": [
        "import json\n",
        "\n",
        "with open('numberone.json') as f:\n",
        "  state_data= json.load(f)\n",
        "\n",
        "for state in state_data['states']:\n",
        "  del state['area_codes']\n",
        "\n",
        "with open('new_states.json', 'w') as f:\n",
        "  json.dump(state_data, f, indent=2)"
      ],
      "metadata": {
        "colab": {
          "base_uri": "https://localhost:8080/",
          "height": 203
        },
        "id": "qdnKTbuREWbV",
        "outputId": "2ac23917-d944-4f13-ddb7-370a067d4da4"
      },
      "execution_count": null,
      "outputs": [
        {
          "output_type": "error",
          "ename": "FileNotFoundError",
          "evalue": "[Errno 2] No such file or directory: 'states.json'",
          "traceback": [
            "\u001b[0;31m---------------------------------------------------------------------------\u001b[0m",
            "\u001b[0;31mFileNotFoundError\u001b[0m                         Traceback (most recent call last)",
            "\u001b[0;32m<ipython-input-12-073e3922fcd5>\u001b[0m in \u001b[0;36m<cell line: 3>\u001b[0;34m()\u001b[0m\n\u001b[1;32m      1\u001b[0m \u001b[0;32mimport\u001b[0m \u001b[0mjson\u001b[0m\u001b[0;34m\u001b[0m\u001b[0;34m\u001b[0m\u001b[0m\n\u001b[1;32m      2\u001b[0m \u001b[0;34m\u001b[0m\u001b[0m\n\u001b[0;32m----> 3\u001b[0;31m \u001b[0;32mwith\u001b[0m \u001b[0mopen\u001b[0m\u001b[0;34m(\u001b[0m\u001b[0;34m'states.json'\u001b[0m\u001b[0;34m)\u001b[0m \u001b[0;32mas\u001b[0m \u001b[0mf\u001b[0m\u001b[0;34m:\u001b[0m\u001b[0;34m\u001b[0m\u001b[0;34m\u001b[0m\u001b[0m\n\u001b[0m\u001b[1;32m      4\u001b[0m   \u001b[0mstate_data\u001b[0m\u001b[0;34m=\u001b[0m \u001b[0mjson\u001b[0m\u001b[0;34m.\u001b[0m\u001b[0mload\u001b[0m\u001b[0;34m(\u001b[0m\u001b[0mf\u001b[0m\u001b[0;34m)\u001b[0m\u001b[0;34m\u001b[0m\u001b[0;34m\u001b[0m\u001b[0m\n\u001b[1;32m      5\u001b[0m \u001b[0;34m\u001b[0m\u001b[0m\n",
            "\u001b[0;31mFileNotFoundError\u001b[0m: [Errno 2] No such file or directory: 'states.json'"
          ]
        }
      ]
    },
    {
      "cell_type": "markdown",
      "source": [
        "7. Write a Python program to check whether an instance is complex or not."
      ],
      "metadata": {
        "id": "oINj4e-eEepT"
      }
    },
    {
      "cell_type": "code",
      "source": [
        "import json\n",
        "\n",
        "def inst_complex(object):\n",
        "    if isinstance(object, complex):\n",
        "        return [object.real, object.imag]\n",
        "    raise TypeError(repr(object) + \"is not JSON serialized\")\n",
        "\n",
        "complex_obj = json.dumps(2 + 3j, default=encode_complex)\n",
        "print(complex_obj)\n"
      ],
      "metadata": {
        "colab": {
          "base_uri": "https://localhost:8080/",
          "height": 206
        },
        "id": "-j9MMBBSQQzx",
        "outputId": "5c5d31d6-1388-4afb-91f9-2f669c0fe86d"
      },
      "execution_count": 1,
      "outputs": [
        {
          "output_type": "error",
          "ename": "NameError",
          "evalue": "name 'encode_complex' is not defined",
          "traceback": [
            "\u001b[0;31m---------------------------------------------------------------------------\u001b[0m",
            "\u001b[0;31mNameError\u001b[0m                                 Traceback (most recent call last)",
            "\u001b[0;32m<ipython-input-1-3f795c8fcb00>\u001b[0m in \u001b[0;36m<cell line: 8>\u001b[0;34m()\u001b[0m\n\u001b[1;32m      6\u001b[0m     \u001b[0;32mraise\u001b[0m \u001b[0mTypeError\u001b[0m\u001b[0;34m(\u001b[0m\u001b[0mrepr\u001b[0m\u001b[0;34m(\u001b[0m\u001b[0mobject\u001b[0m\u001b[0;34m)\u001b[0m \u001b[0;34m+\u001b[0m \u001b[0;34m\"is not JSON serialized\"\u001b[0m\u001b[0;34m)\u001b[0m\u001b[0;34m\u001b[0m\u001b[0;34m\u001b[0m\u001b[0m\n\u001b[1;32m      7\u001b[0m \u001b[0;34m\u001b[0m\u001b[0m\n\u001b[0;32m----> 8\u001b[0;31m \u001b[0mcomplex_obj\u001b[0m \u001b[0;34m=\u001b[0m \u001b[0mjson\u001b[0m\u001b[0;34m.\u001b[0m\u001b[0mdumps\u001b[0m\u001b[0;34m(\u001b[0m\u001b[0;36m2\u001b[0m \u001b[0;34m+\u001b[0m \u001b[0;36m3j\u001b[0m\u001b[0;34m,\u001b[0m \u001b[0mdefault\u001b[0m\u001b[0;34m=\u001b[0m\u001b[0mencode_complex\u001b[0m\u001b[0;34m)\u001b[0m\u001b[0;34m\u001b[0m\u001b[0;34m\u001b[0m\u001b[0m\n\u001b[0m\u001b[1;32m      9\u001b[0m \u001b[0mprint\u001b[0m\u001b[0;34m(\u001b[0m\u001b[0mcomplex_obj\u001b[0m\u001b[0;34m)\u001b[0m\u001b[0;34m\u001b[0m\u001b[0;34m\u001b[0m\u001b[0m\n",
            "\u001b[0;31mNameError\u001b[0m: name 'encode_complex' is not defined"
          ]
        }
      ]
    },
    {
      "cell_type": "markdown",
      "source": [
        "8. Write a Python program to check whether a JSON string contains complex object or not."
      ],
      "metadata": {
        "id": "DUnNfr7_Qttt"
      }
    },
    {
      "cell_type": "code",
      "source": [
        "import json\n",
        "def is_complex_num(object):\n",
        "    if 'complex' in objct:\n",
        "        return complex(objct['real'], objct['img'])\n",
        "    return objct\n",
        "\n",
        "complex_object =json.loads('{\"complex\": true, \"real\": 4, \"img\": 5}', object_hook = is_complex_num)\n",
        "simple_object =json.loads('{\"real\": 4, \"img\": 3}', object_hook = is_complex_num)\n",
        "print(\"Complex_object: \",complex_object)\n",
        "print(\"Without complex object: \",simple_object)"
      ],
      "metadata": {
        "colab": {
          "base_uri": "https://localhost:8080/",
          "height": 362
        },
        "id": "6U_VonjDQz2x",
        "outputId": "27f93794-1d18-4538-c1ce-557240879aea"
      },
      "execution_count": 2,
      "outputs": [
        {
          "output_type": "error",
          "ename": "NameError",
          "evalue": "name 'objct' is not defined",
          "traceback": [
            "\u001b[0;31m---------------------------------------------------------------------------\u001b[0m",
            "\u001b[0;31mNameError\u001b[0m                                 Traceback (most recent call last)",
            "\u001b[0;32m<ipython-input-2-c16c0e2f09ef>\u001b[0m in \u001b[0;36m<cell line: 7>\u001b[0;34m()\u001b[0m\n\u001b[1;32m      5\u001b[0m     \u001b[0;32mreturn\u001b[0m \u001b[0mobjct\u001b[0m\u001b[0;34m\u001b[0m\u001b[0;34m\u001b[0m\u001b[0m\n\u001b[1;32m      6\u001b[0m \u001b[0;34m\u001b[0m\u001b[0m\n\u001b[0;32m----> 7\u001b[0;31m \u001b[0mcomplex_object\u001b[0m \u001b[0;34m=\u001b[0m\u001b[0mjson\u001b[0m\u001b[0;34m.\u001b[0m\u001b[0mloads\u001b[0m\u001b[0;34m(\u001b[0m\u001b[0;34m'{\"complex\": true, \"real\": 4, \"img\": 5}'\u001b[0m\u001b[0;34m,\u001b[0m \u001b[0mobject_hook\u001b[0m \u001b[0;34m=\u001b[0m \u001b[0mis_complex_num\u001b[0m\u001b[0;34m)\u001b[0m\u001b[0;34m\u001b[0m\u001b[0;34m\u001b[0m\u001b[0m\n\u001b[0m\u001b[1;32m      8\u001b[0m \u001b[0msimple_object\u001b[0m \u001b[0;34m=\u001b[0m\u001b[0mjson\u001b[0m\u001b[0;34m.\u001b[0m\u001b[0mloads\u001b[0m\u001b[0;34m(\u001b[0m\u001b[0;34m'{\"real\": 4, \"img\": 3}'\u001b[0m\u001b[0;34m,\u001b[0m \u001b[0mobject_hook\u001b[0m \u001b[0;34m=\u001b[0m \u001b[0mis_complex_num\u001b[0m\u001b[0;34m)\u001b[0m\u001b[0;34m\u001b[0m\u001b[0;34m\u001b[0m\u001b[0m\n\u001b[1;32m      9\u001b[0m \u001b[0mprint\u001b[0m\u001b[0;34m(\u001b[0m\u001b[0;34m\"Complex_object: \"\u001b[0m\u001b[0;34m,\u001b[0m\u001b[0mcomplex_object\u001b[0m\u001b[0;34m)\u001b[0m\u001b[0;34m\u001b[0m\u001b[0;34m\u001b[0m\u001b[0m\n",
            "\u001b[0;32m/usr/lib/python3.10/json/__init__.py\u001b[0m in \u001b[0;36mloads\u001b[0;34m(s, cls, object_hook, parse_float, parse_int, parse_constant, object_pairs_hook, **kw)\u001b[0m\n\u001b[1;32m    357\u001b[0m     \u001b[0;32mif\u001b[0m \u001b[0mparse_constant\u001b[0m \u001b[0;32mis\u001b[0m \u001b[0;32mnot\u001b[0m \u001b[0;32mNone\u001b[0m\u001b[0;34m:\u001b[0m\u001b[0;34m\u001b[0m\u001b[0;34m\u001b[0m\u001b[0m\n\u001b[1;32m    358\u001b[0m         \u001b[0mkw\u001b[0m\u001b[0;34m[\u001b[0m\u001b[0;34m'parse_constant'\u001b[0m\u001b[0;34m]\u001b[0m \u001b[0;34m=\u001b[0m \u001b[0mparse_constant\u001b[0m\u001b[0;34m\u001b[0m\u001b[0;34m\u001b[0m\u001b[0m\n\u001b[0;32m--> 359\u001b[0;31m     \u001b[0;32mreturn\u001b[0m \u001b[0mcls\u001b[0m\u001b[0;34m(\u001b[0m\u001b[0;34m**\u001b[0m\u001b[0mkw\u001b[0m\u001b[0;34m)\u001b[0m\u001b[0;34m.\u001b[0m\u001b[0mdecode\u001b[0m\u001b[0;34m(\u001b[0m\u001b[0ms\u001b[0m\u001b[0;34m)\u001b[0m\u001b[0;34m\u001b[0m\u001b[0;34m\u001b[0m\u001b[0m\n\u001b[0m",
            "\u001b[0;32m/usr/lib/python3.10/json/decoder.py\u001b[0m in \u001b[0;36mdecode\u001b[0;34m(self, s, _w)\u001b[0m\n\u001b[1;32m    335\u001b[0m \u001b[0;34m\u001b[0m\u001b[0m\n\u001b[1;32m    336\u001b[0m         \"\"\"\n\u001b[0;32m--> 337\u001b[0;31m         \u001b[0mobj\u001b[0m\u001b[0;34m,\u001b[0m \u001b[0mend\u001b[0m \u001b[0;34m=\u001b[0m \u001b[0mself\u001b[0m\u001b[0;34m.\u001b[0m\u001b[0mraw_decode\u001b[0m\u001b[0;34m(\u001b[0m\u001b[0ms\u001b[0m\u001b[0;34m,\u001b[0m \u001b[0midx\u001b[0m\u001b[0;34m=\u001b[0m\u001b[0m_w\u001b[0m\u001b[0;34m(\u001b[0m\u001b[0ms\u001b[0m\u001b[0;34m,\u001b[0m \u001b[0;36m0\u001b[0m\u001b[0;34m)\u001b[0m\u001b[0;34m.\u001b[0m\u001b[0mend\u001b[0m\u001b[0;34m(\u001b[0m\u001b[0;34m)\u001b[0m\u001b[0;34m)\u001b[0m\u001b[0;34m\u001b[0m\u001b[0;34m\u001b[0m\u001b[0m\n\u001b[0m\u001b[1;32m    338\u001b[0m         \u001b[0mend\u001b[0m \u001b[0;34m=\u001b[0m \u001b[0m_w\u001b[0m\u001b[0;34m(\u001b[0m\u001b[0ms\u001b[0m\u001b[0;34m,\u001b[0m \u001b[0mend\u001b[0m\u001b[0;34m)\u001b[0m\u001b[0;34m.\u001b[0m\u001b[0mend\u001b[0m\u001b[0;34m(\u001b[0m\u001b[0;34m)\u001b[0m\u001b[0;34m\u001b[0m\u001b[0;34m\u001b[0m\u001b[0m\n\u001b[1;32m    339\u001b[0m         \u001b[0;32mif\u001b[0m \u001b[0mend\u001b[0m \u001b[0;34m!=\u001b[0m \u001b[0mlen\u001b[0m\u001b[0;34m(\u001b[0m\u001b[0ms\u001b[0m\u001b[0;34m)\u001b[0m\u001b[0;34m:\u001b[0m\u001b[0;34m\u001b[0m\u001b[0;34m\u001b[0m\u001b[0m\n",
            "\u001b[0;32m/usr/lib/python3.10/json/decoder.py\u001b[0m in \u001b[0;36mraw_decode\u001b[0;34m(self, s, idx)\u001b[0m\n\u001b[1;32m    351\u001b[0m         \"\"\"\n\u001b[1;32m    352\u001b[0m         \u001b[0;32mtry\u001b[0m\u001b[0;34m:\u001b[0m\u001b[0;34m\u001b[0m\u001b[0;34m\u001b[0m\u001b[0m\n\u001b[0;32m--> 353\u001b[0;31m             \u001b[0mobj\u001b[0m\u001b[0;34m,\u001b[0m \u001b[0mend\u001b[0m \u001b[0;34m=\u001b[0m \u001b[0mself\u001b[0m\u001b[0;34m.\u001b[0m\u001b[0mscan_once\u001b[0m\u001b[0;34m(\u001b[0m\u001b[0ms\u001b[0m\u001b[0;34m,\u001b[0m \u001b[0midx\u001b[0m\u001b[0;34m)\u001b[0m\u001b[0;34m\u001b[0m\u001b[0;34m\u001b[0m\u001b[0m\n\u001b[0m\u001b[1;32m    354\u001b[0m         \u001b[0;32mexcept\u001b[0m \u001b[0mStopIteration\u001b[0m \u001b[0;32mas\u001b[0m \u001b[0merr\u001b[0m\u001b[0;34m:\u001b[0m\u001b[0;34m\u001b[0m\u001b[0;34m\u001b[0m\u001b[0m\n\u001b[1;32m    355\u001b[0m             \u001b[0;32mraise\u001b[0m \u001b[0mJSONDecodeError\u001b[0m\u001b[0;34m(\u001b[0m\u001b[0;34m\"Expecting value\"\u001b[0m\u001b[0;34m,\u001b[0m \u001b[0ms\u001b[0m\u001b[0;34m,\u001b[0m \u001b[0merr\u001b[0m\u001b[0;34m.\u001b[0m\u001b[0mvalue\u001b[0m\u001b[0;34m)\u001b[0m \u001b[0;32mfrom\u001b[0m \u001b[0;32mNone\u001b[0m\u001b[0;34m\u001b[0m\u001b[0;34m\u001b[0m\u001b[0m\n",
            "\u001b[0;32m<ipython-input-2-c16c0e2f09ef>\u001b[0m in \u001b[0;36mis_complex_num\u001b[0;34m(object)\u001b[0m\n\u001b[1;32m      1\u001b[0m \u001b[0;32mimport\u001b[0m \u001b[0mjson\u001b[0m\u001b[0;34m\u001b[0m\u001b[0;34m\u001b[0m\u001b[0m\n\u001b[1;32m      2\u001b[0m \u001b[0;32mdef\u001b[0m \u001b[0mis_complex_num\u001b[0m\u001b[0;34m(\u001b[0m\u001b[0mobject\u001b[0m\u001b[0;34m)\u001b[0m\u001b[0;34m:\u001b[0m\u001b[0;34m\u001b[0m\u001b[0;34m\u001b[0m\u001b[0m\n\u001b[0;32m----> 3\u001b[0;31m     \u001b[0;32mif\u001b[0m \u001b[0;34m'complex'\u001b[0m \u001b[0;32min\u001b[0m \u001b[0mobjct\u001b[0m\u001b[0;34m:\u001b[0m\u001b[0;34m\u001b[0m\u001b[0;34m\u001b[0m\u001b[0m\n\u001b[0m\u001b[1;32m      4\u001b[0m         \u001b[0;32mreturn\u001b[0m \u001b[0mcomplex\u001b[0m\u001b[0;34m(\u001b[0m\u001b[0mobjct\u001b[0m\u001b[0;34m[\u001b[0m\u001b[0;34m'real'\u001b[0m\u001b[0;34m]\u001b[0m\u001b[0;34m,\u001b[0m \u001b[0mobjct\u001b[0m\u001b[0;34m[\u001b[0m\u001b[0;34m'img'\u001b[0m\u001b[0;34m]\u001b[0m\u001b[0;34m)\u001b[0m\u001b[0;34m\u001b[0m\u001b[0;34m\u001b[0m\u001b[0m\n\u001b[1;32m      5\u001b[0m     \u001b[0;32mreturn\u001b[0m \u001b[0mobjct\u001b[0m\u001b[0;34m\u001b[0m\u001b[0;34m\u001b[0m\u001b[0m\n",
            "\u001b[0;31mNameError\u001b[0m: name 'objct' is not defined"
          ]
        }
      ]
    },
    {
      "cell_type": "markdown",
      "source": [
        "9. Write a Python program to access only unique key value of a Python object."
      ],
      "metadata": {
        "id": "fokk9VRXRQJ3"
      }
    },
    {
      "cell_type": "code",
      "source": [
        "import json\n",
        "python_obj = '{\"a\":  1, \"a\":  2, \"a\":  3, \"a\": 4, \"b\": 1, \"b\": 2}'\n",
        "print(\"Python object:\")\n",
        "print(python_obj)\n",
        "json_obj = json.loads(python_obj)\n",
        "print(\"\\nunique key value in a json object:\")\n",
        "print(json_obj)"
      ],
      "metadata": {
        "colab": {
          "base_uri": "https://localhost:8080/"
        },
        "id": "FmN1DqM8RUNG",
        "outputId": "526a379e-1a2e-4c82-dfd4-155f940aa52f"
      },
      "execution_count": 4,
      "outputs": [
        {
          "output_type": "stream",
          "name": "stdout",
          "text": [
            "Python object:\n",
            "{\"a\":  1, \"a\":  2, \"a\":  3, \"a\": 4, \"b\": 1, \"b\": 2}\n",
            "\n",
            "unique key value in a json object:\n",
            "{'a': 4, 'b': 2}\n"
          ]
        }
      ]
    }
  ]
}