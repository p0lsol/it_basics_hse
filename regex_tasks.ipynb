{
  "nbformat": 4,
  "nbformat_minor": 0,
  "metadata": {
    "colab": {
      "provenance": []
    },
    "kernelspec": {
      "name": "python3",
      "display_name": "Python 3"
    },
    "language_info": {
      "name": "python"
    }
  },
  "cells": [
    {
      "cell_type": "code",
      "source": [
        "import re"
      ],
      "metadata": {
        "id": "k4lv6kb7ioOj"
      },
      "execution_count": null,
      "outputs": []
    },
    {
      "cell_type": "markdown",
      "source": [
        "1 Task: Find all words in a string that start with a capital letter."
      ],
      "metadata": {
        "id": "lWwKMw5qhi0i"
      }
    },
    {
      "cell_type": "code",
      "execution_count": 4,
      "metadata": {
        "colab": {
          "base_uri": "https://localhost:8080/"
        },
        "id": "UHZvVG9mhLYN",
        "outputId": "f26d01c8-f8a7-4e15-a19b-db4eae5b9f0d"
      },
      "outputs": [
        {
          "output_type": "execute_result",
          "data": {
            "text/plain": [
              "['Hello', 'Regex', 'Python']"
            ]
          },
          "metadata": {},
          "execution_count": 4
        }
      ],
      "source": [
        "re.findall(r'\\b[A-Z].*?\\b', 'Hello world, this is a Regex example with Python.')"
      ]
    },
    {
      "cell_type": "markdown",
      "source": [
        "2 Task: Replace all instances of \"is\" with \"was\" in the string."
      ],
      "metadata": {
        "id": "8pF_hFrMisNE"
      }
    },
    {
      "cell_type": "code",
      "source": [
        "re.sub(r'\\bis', 'was', 'This is a test. This is only a test.')"
      ],
      "metadata": {
        "colab": {
          "base_uri": "https://localhost:8080/",
          "height": 56
        },
        "id": "ifD_Ssljiw3t",
        "outputId": "cce3b001-c4b8-4e94-f345-1c4bc204ab4b"
      },
      "execution_count": 8,
      "outputs": [
        {
          "output_type": "execute_result",
          "data": {
            "text/plain": [
              "'This was a test. This was only a test.'"
            ],
            "application/vnd.google.colaboratory.intrinsic+json": {
              "type": "string"
            }
          },
          "metadata": {},
          "execution_count": 8
        }
      ]
    },
    {
      "cell_type": "markdown",
      "source": [
        "3 Task: Extract All URLs from a Text"
      ],
      "metadata": {
        "id": "gldk1B_0jNGH"
      }
    },
    {
      "cell_type": "code",
      "source": [
        "text = 'Visit https://www.example.com or follow http://example.org. You can also check out https://another-example.com/path?arg=val for more details.'\n",
        "re.findall(r'(?:(?:https?):\\/\\/)?[\\w/\\-?=%.]+\\.[\\w/\\-&?=%.]+', text)"
      ],
      "metadata": {
        "colab": {
          "base_uri": "https://localhost:8080/"
        },
        "id": "R0X7VD67jphh",
        "outputId": "61a536b2-bc82-4562-929f-5b683d95c302"
      },
      "execution_count": 24,
      "outputs": [
        {
          "output_type": "execute_result",
          "data": {
            "text/plain": [
              "['https://www.example.com',\n",
              " 'http://example.org.',\n",
              " 'https://another-example.com/path?arg=val']"
            ]
          },
          "metadata": {},
          "execution_count": 24
        }
      ]
    },
    {
      "cell_type": "markdown",
      "source": [
        "4. Task: Find all hashtags in a comment"
      ],
      "metadata": {
        "id": "zQGyHjv2kb43"
      }
    },
    {
      "cell_type": "code",
      "source": [
        "re.findall(r'#\\w+', 'Loving the #sunset and #nature! #beautiful_day')"
      ],
      "metadata": {
        "colab": {
          "base_uri": "https://localhost:8080/"
        },
        "id": "zhQ8uoRxlyiQ",
        "outputId": "cd2c593d-b139-45ca-e050-3d67c39dde16"
      },
      "execution_count": 26,
      "outputs": [
        {
          "output_type": "execute_result",
          "data": {
            "text/plain": [
              "['#sunset', '#nature', '#beautiful_day']"
            ]
          },
          "metadata": {},
          "execution_count": 26
        }
      ]
    },
    {
      "cell_type": "markdown",
      "source": [
        "5 Task: Remove the repeated words"
      ],
      "metadata": {
        "id": "8DXfoCammlYp"
      }
    },
    {
      "cell_type": "code",
      "source": [
        "re.sub(r'\\b(\\w+)\\s+\\1\\b', '', 'This is is a test test string.')"
      ],
      "metadata": {
        "colab": {
          "base_uri": "https://localhost:8080/",
          "height": 56
        },
        "id": "d0Nf0vXPmnRY",
        "outputId": "5771e824-63ec-4aea-d546-d891e5cce69c"
      },
      "execution_count": 28,
      "outputs": [
        {
          "output_type": "execute_result",
          "data": {
            "text/plain": [
              "'This  a  string.'"
            ],
            "application/vnd.google.colaboratory.intrinsic+json": {
              "type": "string"
            }
          },
          "metadata": {},
          "execution_count": 28
        }
      ]
    }
  ]
}